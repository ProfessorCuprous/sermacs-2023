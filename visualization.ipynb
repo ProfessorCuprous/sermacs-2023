{
 "cells": [
  {
   "cell_type": "code",
   "execution_count": null,
   "id": "e03cf2ef-d925-40be-be30-f0113668d85e",
   "metadata": {},
   "outputs": [],
   "source": [
    "# apply Jupyter notebook style\n",
    "from IPython.core.display import HTML\n",
    "\n",
    "from custom.styles import style_string\n",
    "\n",
    "HTML(style_string)"
   ]
  },
  {
   "cell_type": "markdown",
   "id": "b409df03-4458-4c31-be7b-540fcae1e59c",
   "metadata": {},
   "source": [
    "# Visualization using Plotly\n",
    "\n",
    "<div class=\"overview admonition\"> \n",
    "<p class=\"admonition-title\">Overview</p>\n",
    "\n",
    "Questions:\n",
    "\n",
    "* How do I use Python to interactively visualize data?\n",
    "\n",
    "Objectives:\n",
    "\n",
    "* Use plotly to visualize data\n",
    "</div>\n",
    "\n",
    "Plotly is a Python library that allows you to create interactive visualizations. \n",
    "For this demonstration, we'll be using Plotly Express, a simple interface to the capabilities of Plotly.\n",
    "\n",
    "We will first read in our data using pandas, then we will plot data using plotly. \n",
    "Plotly express is imported as `import plotly.express as px`"
   ]
  },
  {
   "cell_type": "code",
   "execution_count": null,
   "id": "4d89c9b8-b9e0-4b91-84d6-7f6af21c5dab",
   "metadata": {},
   "outputs": [],
   "source": [
    "import pandas as pd\n",
    "\n",
    "import plotly.express as px"
   ]
  },
  {
   "cell_type": "code",
   "execution_count": null,
   "id": "69c3c5d1-aa85-4d37-abfa-acb044835e5d",
   "metadata": {},
   "outputs": [],
   "source": [
    "df = pd.read_csv(\"data/PubChemElements_all.csv\")\n",
    "df.head()"
   ]
  },
  {
   "cell_type": "markdown",
   "id": "fc1a81af-fa9c-4825-a05c-3cb5d6bedf83",
   "metadata": {},
   "source": [
    "To plot something using plotly, we can use `px.line` or `px.scatter` for line and scatter plots respectively."
   ]
  },
  {
   "cell_type": "code",
   "execution_count": null,
   "id": "96c632e7-2f05-49e7-9964-4b9de0f15db2",
   "metadata": {},
   "outputs": [],
   "source": [
    "fig = px.line(df, x=\"AtomicNumber\", y=\"MeltingPoint\")\n",
    "fig.add_scatter(x=df[\"AtomicNumber\"], y=df[\"BoilingPoint\"], name=\"Boiling Point\")\n",
    "fig.show()"
   ]
  },
  {
   "cell_type": "markdown",
   "id": "2f93bd8a-bb2e-4511-ad1a-dd970881965f",
   "metadata": {},
   "source": [
    "Once you have a variable representing a figure, you can continue to update it in different cells. \n",
    "For example, we might wish to change the y axis label."
   ]
  },
  {
   "cell_type": "code",
   "execution_count": null,
   "id": "78fb99e5-720e-4712-9ab2-6e7b251b21c8",
   "metadata": {},
   "outputs": [],
   "source": [
    "fig.update_yaxes(title=\"Melting Point (K)\")"
   ]
  },
  {
   "cell_type": "code",
   "execution_count": null,
   "id": "f5640ee1-3c6a-4b47-ab8f-ea5cf4dea533",
   "metadata": {},
   "outputs": [],
   "source": []
  },
  {
   "cell_type": "markdown",
   "id": "ac60a64b-cde3-4052-b922-bbd38832309d",
   "metadata": {},
   "source": [
    "Plotly allows you to set the color of your markers based on the value in another column. In the cell below, we color the points based on their block."
   ]
  },
  {
   "cell_type": "code",
   "execution_count": null,
   "id": "dec4ca75-2809-4f26-9304-8b9c69836208",
   "metadata": {},
   "outputs": [],
   "source": [
    "fig = px.scatter(df, x=\"AtomicNumber\", y=\"MeltingPoint\", color=\"GroupBlock\")\n",
    "fig.show()"
   ]
  },
  {
   "cell_type": "markdown",
   "id": "3283a7e4-4ae6-4eb9-b508-3b6c90d4b589",
   "metadata": {},
   "source": [
    "With a little bit of processing, we can also add information about the row the element is on in the periodic table.\n",
    "In the cell below, I use pandas and Python string methods to get the element used in the electron configuration.\n",
    "You would not be expected to be able to write this code based on the workshop, but it's an example of something you can do with Python!"
   ]
  },
  {
   "cell_type": "code",
   "execution_count": null,
   "id": "0742f7b6-313d-4a17-9d28-63ffc6eeee2b",
   "metadata": {},
   "outputs": [],
   "source": [
    "df[\"row\"] = df[\"ElectronConfiguration\"].str.split(\"]\").str[0].str.replace(\"[\", \"\")"
   ]
  },
  {
   "cell_type": "code",
   "execution_count": null,
   "id": "42421c7d-e707-4c74-9e51-a4c1835fce88",
   "metadata": {},
   "outputs": [],
   "source": [
    "fig = px.scatter(df, x=\"AtomicNumber\", y=\"IonizationEnergy\", color=\"row\")\n",
    "fig.show()"
   ]
  },
  {
   "cell_type": "code",
   "execution_count": null,
   "id": "b227dd42-bb6a-4ac9-9607-9d11871b9ef2",
   "metadata": {},
   "outputs": [],
   "source": []
  },
  {
   "cell_type": "markdown",
   "id": "8ebcec66-8a89-4873-8a9d-06ca5efffda5",
   "metadata": {},
   "source": [
    "<div class=\"exercise admonition\">\n",
    "<p class=\"admonition-title\">Check Your Understanding</p>\n",
    "\n",
    "Create a plot of `AtomicRadius` vs `AtomicNumber`.\n",
    "Update your axes to have appropriate labels.\n",
    "Try adding color visualizaton to your plot using GroupBlock and Row.\n",
    "\n",
    "What other periodic trends can you explore with visualization?\n",
    "\n",
    "</div>"
   ]
  },
  {
   "cell_type": "code",
   "execution_count": null,
   "id": "42546e23-2b10-450d-9005-ffcafcbba9f6",
   "metadata": {},
   "outputs": [],
   "source": []
  },
  {
   "cell_type": "code",
   "execution_count": null,
   "id": "e4daee19-5d1a-409e-8a71-a594167b12e4",
   "metadata": {},
   "outputs": [],
   "source": []
  },
  {
   "cell_type": "code",
   "execution_count": null,
   "id": "433e2f78-fb0e-4d5a-8f1d-9fc7ecf3f0d5",
   "metadata": {},
   "outputs": [],
   "source": []
  },
  {
   "cell_type": "code",
   "execution_count": null,
   "id": "93186126-9ebd-42f2-8625-7ee2c0369d48",
   "metadata": {},
   "outputs": [],
   "source": []
  },
  {
   "cell_type": "markdown",
   "id": "12747db8-cb5b-4a82-8e74-563e67845762",
   "metadata": {},
   "source": [
    "We can also do thing like visualize boiling points by standard states using a box plot."
   ]
  },
  {
   "cell_type": "code",
   "execution_count": null,
   "id": "fb897635-7846-46dc-aff1-1490386a5f5f",
   "metadata": {},
   "outputs": [],
   "source": [
    "fig = px.box(df, x=\"StandardState\", y=\"BoilingPoint\")\n",
    "fig.show()"
   ]
  },
  {
   "cell_type": "code",
   "execution_count": null,
   "id": "59c0387c-4470-41e8-b08f-2cfeb189943b",
   "metadata": {},
   "outputs": [],
   "source": []
  },
  {
   "cell_type": "markdown",
   "id": "797ab054-e5fa-44fc-9b9f-49707b5f9c89",
   "metadata": {},
   "source": [
    "You can see an overview of available plot types in plotly express [on this page](https://plotly.com/python/plotly-express/)."
   ]
  },
  {
   "cell_type": "code",
   "execution_count": null,
   "id": "39def067-a1ea-4967-913f-6f1e80cc5c8b",
   "metadata": {},
   "outputs": [],
   "source": []
  },
  {
   "cell_type": "code",
   "execution_count": null,
   "id": "a819f062-997a-4c6a-b0db-7a770e52fd56",
   "metadata": {},
   "outputs": [],
   "source": []
  }
 ],
 "metadata": {
  "kernelspec": {
   "display_name": "Python 3 (ipykernel)",
   "language": "python",
   "name": "python3"
  },
  "language_info": {
   "codemirror_mode": {
    "name": "ipython",
    "version": 3
   },
   "file_extension": ".py",
   "mimetype": "text/x-python",
   "name": "python",
   "nbconvert_exporter": "python",
   "pygments_lexer": "ipython3",
   "version": "3.11.6"
  }
 },
 "nbformat": 4,
 "nbformat_minor": 5
}
